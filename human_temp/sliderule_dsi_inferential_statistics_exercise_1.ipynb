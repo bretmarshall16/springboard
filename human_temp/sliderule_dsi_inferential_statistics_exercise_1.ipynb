{
 "cells": [
  {
   "cell_type": "markdown",
   "metadata": {},
   "source": [
    "# What is the True Normal Human Body Temperature? \n",
    "\n",
    "#### Background\n",
    "\n",
    "The mean normal body temperature was held to be 37$^{\\circ}$C or 98.6$^{\\circ}$F for more than 120 years since it was first conceptualized and reported by Carl Wunderlich in a famous 1868 book. But, is this value statistically correct?"
   ]
  },
  {
   "cell_type": "markdown",
   "metadata": {},
   "source": [
    "<div class=\"span5 alert alert-info\">\n",
    "<h3>Exercises</h3>\n",
    "\n",
    "<p>In this exercise, you will analyze a dataset of human body temperatures and employ the concepts of hypothesis testing, confidence intervals, and statistical significance.</p>\n",
    "\n",
    "<p>Answer the following questions <b>in this notebook below and submit to your Github account</b>.</p> \n",
    "\n",
    "<ol>\n",
    "<li>  Is the distribution of body temperatures normal? \n",
    "    <ul>\n",
    "    <li> Although this is not a requirement for CLT to hold (read CLT carefully), it gives us some peace of mind that the population may also be normally distributed if we assume that this sample is representative of the population.\n",
    "    </ul>\n",
    "<li>  Is the sample size large? Are the observations independent?\n",
    "    <ul>\n",
    "    <li> Remember that this is a condition for the CLT, and hence the statistical tests we are using, to apply.\n",
    "    </ul>\n",
    "<li>  Is the true population mean really 98.6 degrees F?\n",
    "    <ul>\n",
    "    <li> Would you use a one-sample or two-sample test? Why?\n",
    "    <li> In this situation, is it appropriate to use the $t$ or $z$ statistic? \n",
    "    <li> Now try using the other test. How is the result be different? Why?\n",
    "    </ul>\n",
    "<li>  At what temperature should we consider someone's temperature to be \"abnormal\"?\n",
    "    <ul>\n",
    "    <li> Start by computing the margin of error and confidence interval.\n",
    "    </ul>\n",
    "<li>  Is there a significant difference between males and females in normal temperature?\n",
    "    <ul>\n",
    "    <li> What test did you use and why?\n",
    "    <li> Write a story with your conclusion in the context of the original problem.\n",
    "    </ul>\n",
    "</ol>\n",
    "\n",
    "You can include written notes in notebook cells using Markdown: \n",
    "   - In the control panel at the top, choose Cell > Cell Type > Markdown\n",
    "   - Markdown syntax: http://nestacms.com/docs/creating-content/markdown-cheat-sheet\n",
    "\n",
    "#### Resources\n",
    "\n",
    "+ Information and data sources: http://www.amstat.org/publications/jse/datasets/normtemp.txt, http://www.amstat.org/publications/jse/jse_data_archive.htm\n",
    "+ Markdown syntax: http://nestacms.com/docs/creating-content/markdown-cheat-sheet\n",
    "\n",
    "****\n",
    "</div>"
   ]
  },
  {
   "cell_type": "code",
   "execution_count": 64,
   "metadata": {},
   "outputs": [
    {
     "name": "stdout",
     "output_type": "stream",
     "text": [
      "   temperature gender  heart_rate\n",
      "0         99.3      F        68.0\n",
      "1         98.4      F        81.0\n",
      "2         97.8      M        73.0\n",
      "3         99.2      F        66.0\n",
      "4         98.0      F        73.0\n",
      "temperature    130\n",
      "gender         130\n",
      "heart_rate     130\n",
      "dtype: int64\n",
      "98.24923076923078\n"
     ]
    }
   ],
   "source": [
    "import pandas as pd\n",
    "\n",
    "df = pd.read_csv('data/human_body_temperature.csv')\n",
    "print(df.head())\n",
    "print(df.count())\n",
    "print(np.mean(df['temperature']))"
   ]
  },
  {
   "cell_type": "markdown",
   "metadata": {},
   "source": [
    "# Is the distribution of body temperatures normal?\n",
    "\n",
    "to determine if the distribution of body temperature is normal, I will graph the cdf of human body temperature and a sample of the normal distribution to see how well they match each other."
   ]
  },
  {
   "cell_type": "code",
   "execution_count": 19,
   "metadata": {},
   "outputs": [],
   "source": [
    "#IMPORTING NECESSARY MODULES\n",
    "import numpy as np\n",
    "import matplotlib.pyplot as plt\n",
    "import seaborn as sns\n",
    "sns.set()"
   ]
  },
  {
   "cell_type": "code",
   "execution_count": 21,
   "metadata": {},
   "outputs": [],
   "source": [
    "def ecdf(data):\n",
    "    #RETURNS X AND Y DATA FOR A ECDF\n",
    "    x=np.sort(data)\n",
    "    y=np.arange(1,len(x)+1)/len(x)\n",
    "    return x,y"
   ]
  },
  {
   "cell_type": "code",
   "execution_count": 25,
   "metadata": {},
   "outputs": [
    {
     "data": {
      "image/png": "[encoded data removed]",
      "text/plain": [
       "<matplotlib.figure.Figure at 0x10d137908>"
      ]
     },
     "metadata": {},
     "output_type": "display_data"
    }
   ],
   "source": [
    "#SAMPLING FROM THE NORMAL DISTRIBUTION WITH MEAN AND STD FROM REAL DATA\n",
    "mean=np.mean(df['temperature'])\n",
    "std=np.std(df['temperature'])\n",
    "normal_data=np.random.normal(mean,std,100000)\n",
    "#print(len(normal_data))\n",
    "#print(mean,std)\n",
    "\n",
    "#OBTAINING ECDF OF REAL AND THEORETICAL DATA\n",
    "x,y=ecdf(df['temperature'])\n",
    "x_theor,y_theor=ecdf(normal_data)\n",
    "\n",
    "\n",
    "#PLOTTING ECDF OF REAL AND THEORETICAL DATA\n",
    "_=plt.plot(x,y,marker='.',linestyle='none')\n",
    "_=plt.plot(x_theor,y_theor,color='red')\n",
    "_=plt.title('CDF of human body temperature')\n",
    "_=plt.xlabel(\"body temperature ('F')\")\n",
    "_=plt.ylabel('cumulative probability')\n",
    "plt.show()\n"
   ]
  },
  {
   "cell_type": "markdown",
   "metadata": {},
   "source": [
    "from the above graph it is clear that human body temperature is normally distributed\n",
    "\n",
    "# Is the sample size large? Are the observations independent?\n",
    "\n",
    "To determine if the sample size is large we use bootstrapping to figure out if we sampled human body temperature again and again what would we get for the mean."
   ]
  },
  {
   "cell_type": "code",
   "execution_count": 35,
   "metadata": {
    "collapsed": true
   },
   "outputs": [],
   "source": [
    "def bootstrap_replicate_1d(data, func):\n",
    "    #Generate bootstrap replicate of 1D data.\n",
    "    bs_sample = np.random.choice(data, len(data))\n",
    "    return func(bs_sample) \n",
    "\n",
    "def draw_bs_reps(data, func, size=1):\n",
    "    #Draw bootstrap replicates\n",
    "\n",
    "    # Initialize array of replicates: bs_replicates\n",
    "    bs_replicates = np.empty(size)\n",
    "\n",
    "    # Generate replicates\n",
    "    for i in range(size):\n",
    "        bs_replicates[i] = bootstrap_replicate_1d(data,func)\n",
    "\n",
    "    return bs_replicates"
   ]
  },
  {
   "cell_type": "code",
   "execution_count": 98,
   "metadata": {},
   "outputs": [
    {
     "name": "stdout",
     "output_type": "stream",
     "text": [
      "variance in mean: 0.00403028697855\n",
      "95% confidence interval in mean:[ 98.12538462  98.37307692]\n"
     ]
    },
    {
     "data": {
      "image/png": "[encoded data removed]",
      "text/plain": [
       "<matplotlib.figure.Figure at 0x1135ada58>"
      ]
     },
     "metadata": {},
     "output_type": "display_data"
    }
   ],
   "source": [
    "#TAKING 10000 BOOTSTRAP REPLICATES OF MEAN HUMAN BODY TEMPERATURE\n",
    "bs_temperature=draw_bs_reps(df['temperature'],np.mean,10000)\n",
    "\n",
    "#PRINT OUT VARIANCE TO SHOW DIFFERENCE\n",
    "print(\"variance in mean: \"+str(np.var(bs_temperature)))\n",
    "print(\"95% confidence interval in mean:\" +str(np.percentile(bs_temperature,[2.5,97.5])))\n",
    "\n",
    "#PLOTTING OF MEAN HUMAN BODY TEMPERATURE\n",
    "_ = plt.hist(bs_temperature,bins=50, normed=True)\n",
    "_ = plt.plot([np.mean(df['temperature']),np.mean(df['temperature'])], [0, 7], 'k-',color='red')\n",
    "_ = plt.plot(x=np.mean(df['temperature']),y=y,linestyle='-',color='red')\n",
    "_ = plt.title('Mean Human Body Temperature (F) With Empircal Mean Marked as Vertical Red Line')\n",
    "_ = plt.xlabel('Mean human body temperature (F) ')\n",
    "_ = plt.ylabel('PDF')\n",
    "plt.show()"
   ]
  },
  {
   "cell_type": "markdown",
   "metadata": {},
   "source": [
    "The variance in the calculated mean shows us very clearly that if we were to repeat the measurement of human body temperature many times we would not have much change in the mean temperature. The graph also backups this observation.  This indicates that the sample size is suficiently large.\n",
    "\n",
    "## Is the true population mean really 98.6 degrees F?\n",
    "\n",
    "To determine this, I state the null hypothesis that the real mean human body temperature is actually 98.6.  I decide that my test statistic will mean.  I will then create a data set from df['temperature'] that has a mean of 98.6 by translating the data. then I will use bootstrapping to generate many observations of that dataset and test statistic to determine a p-value.\n",
    "\n",
    "### 1. Would you use a one-sample or two-sample test? Why?\n",
    "I would use a one-sample test because a two-sample test is used to compare two quanties while in this case we are not comparing anything\n",
    "        \n",
    "### 2. In this situation, is it appropriate to use the  tt  or  zz  statistic?\n",
    "the Z statistic, because the size of the data is suffieciently large\n",
    "    \n",
    "### 3. Now try using the other test. How is the result be different? Why?\n",
    "\n"
   ]
  },
  {
   "cell_type": "code",
   "execution_count": 75,
   "metadata": {},
   "outputs": [
    {
     "name": "stdout",
     "output_type": "stream",
     "text": [
      "p =  0.0\n"
     ]
    }
   ],
   "source": [
    "#TRANSLATE RECORDED TEMPERATURE TO HAVE MEAN OF 98.6\n",
    "translated_body_temp=df['temperature']-(np.mean(df['temperature'])-98.6)\n",
    "#print(np.mean(translated_body_temp))\n",
    "\n",
    "#TAKING BS REPLICATES OF TRANSLATED DATA\n",
    "bs_replicates=draw_bs_reps(translated_body_temp,np.mean,10000)\n",
    "\n",
    "#CALCULATED P-VALUE\n",
    "p=np.sum(bs_replicates<=np.mean(df['temperature']))/len(bs_replicates)\n",
    "\n",
    "# Print the p-value\n",
    "print('p = ', p)"
   ]
  },
  {
   "cell_type": "markdown",
   "metadata": {},
   "source": [
    "the observed p-value is < 0.0001 indicating that is very unlikely that the true population mean is actually 98.6, or stated another way that the difference in means was to chance. This conclusion could have also been drawn by the 95% confidence interval calculated above which is [ 98.12538462  98.37307692]. indicated that a mean of 98.6 would be very unlikely.  \n",
    "\n",
    "this conclusion was reached with a one-sample test, we can perform a two-sample test by determine the p-value for difference of means between the translated_body_temp and the real df['temperature'] data.  we will do that now"
   ]
  },
  {
   "cell_type": "code",
   "execution_count": 97,
   "metadata": {},
   "outputs": [
    {
     "name": "stdout",
     "output_type": "stream",
     "text": [
      "p-value = 0.0001\n"
     ]
    }
   ],
   "source": [
    "def diff_of_means(data_1,data_2):\n",
    "    #calculates the difference of means of two sets of data\n",
    "    return np.mean(data_1)-np.mean(data_2)\n",
    "\n",
    "# Compute difference of body temps: empirical_diff_means\n",
    "empirical_diff_means = diff_of_means(np.array(df['temperature']),np.array(translated_body_temp))\n",
    "#print(empirical_diff_means)\n",
    "\n",
    "# Concatenate body temps: forces_concat\n",
    "temps_concat = np.concatenate((np.array(df['temperature']),np.array(translated_body_temp)))\n",
    "\n",
    "# Initialize bootstrap replicates: bs_replicates\n",
    "bs_replicates = np.empty(10000)\n",
    "\n",
    "for i in range(10000):\n",
    "    # Generate bootstrap sample\n",
    "    bs_sample = np.random.choice(temps_concat, size=len(temps_concat))\n",
    "    \n",
    "    # Compute replicate\n",
    "    bs_replicates[i] = diff_of_means(bs_sample[:len(df['temperature'])],\n",
    "                                     bs_sample[len(df['temperature']):])\n",
    "\n",
    "# Compute and print p-value: p\n",
    "p = sum(bs_replicates<=empirical_diff_means) / len(bs_replicates)\n",
    "print('p-value =', p)"
   ]
  },
  {
   "cell_type": "markdown",
   "metadata": {},
   "source": [
    "the observed p-value is 0.0001 indicating again that is very unlikley that the true population mean is actually 98.6, or in this case that the two data sets are the same and that a a difference of 0.37 would occur by chance.  \n",
    "\n",
    "# At what temperature should we consider someone's temperature to be \"abnormal\"?\n",
    "I will start by computing the margin of error and confidence interval.  However, I do not know how to calculate margin of error so i will assume this means standard error of the mean"
   ]
  },
  {
   "cell_type": "code",
   "execution_count": 104,
   "metadata": {},
   "outputs": [
    {
     "name": "stdout",
     "output_type": "stream",
     "text": [
      "variance in mean: 0.0041619383395\n",
      "95% confidence interval in mean: [ 98.12230769  98.37461538]\n",
      "99% confidence interval in mean: [ 98.08153462  98.41231538]\n",
      "Standard error of the mean (SEM): 0.0640566146952\n"
     ]
    }
   ],
   "source": [
    "#TAKING 10000 BOOTSTRAP REPLICATES OF MEAN HUMAN BODY TEMPERATURE\n",
    "bs_temperature=draw_bs_reps(df['temperature'],np.mean,10000)\n",
    "sem=np.std(df['temperature'])/np.sqrt(len(df['temperature']))\n",
    "\n",
    "#PRINT CONFIDENCE INTERVALS\n",
    "print(\"variance in mean: \"+str(np.var(bs_temperature)))\n",
    "print(\"95% confidence interval in mean: \" +str(np.percentile(bs_temperature,[2.5,97.5])))\n",
    "print(\"99% confidence interval in mean: \" +str(np.percentile(bs_temperature,[0.5,99.5])))\n",
    "print(\"Standard error of the mean (SEM): \"+str(sem))"
   ]
  },
  {
   "cell_type": "markdown",
   "metadata": {},
   "source": [
    "Now I would say that an abnormal temperature is anything from (98.12230769-0.0640566146952)=98.0582510753 to (98.37461538 + 0.0640566146952)= 98.4386719947.\n",
    "\n",
    "# Is there a significant difference between males and females in normal temperature?\n",
    "\n",
    "## What test did you use and why?\n",
    "\n",
    "    I will use a permutation in this case because we have two sets of data, 1 for female, and one for male.  To do this I will assume that there is no signficant difference between males and females.  I will create 1 array of both data, then I will use np.random.permuation to scrabble the data, then reassign the order again then compute the test statistic, then calculate the p-value. the test statistic in this case will be the difference in the means. \n"
   ]
  },
  {
   "cell_type": "code",
   "execution_count": 121,
   "metadata": {},
   "outputs": [
    {
     "name": "stdout",
     "output_type": "stream",
     "text": [
      "p-value = 0.0123\n"
     ]
    }
   ],
   "source": [
    "def permutation_sample(data_1, data_2):\n",
    "    #PERMUTATING THE DATA\n",
    "    permuted_data = np.random.permutation(np.concatenate((data_1, data_2)))\n",
    "    return permuted_data[:len(data_1)], permuted_data[len(data_1):]\n",
    "\n",
    "def draw_perm_reps(data_1, data_2, func, size=1):\n",
    "    #Generate multiple permutation replicates.\n",
    "\n",
    "    # Initialize array of replicates: perm_replicates\n",
    "    perm_replicates = np.empty(size)\n",
    "\n",
    "    for i in range(size):\n",
    "        # Generate permutation sample\n",
    "        perm_sample_1, perm_sample_2 = permutation_sample(data_1,data_2)\n",
    "\n",
    "        # Compute the test statistic\n",
    "        perm_replicates[i] = func(perm_sample_1,perm_sample_2)\n",
    "\n",
    "    return perm_replicates\n",
    "\n",
    "#BREAKING DATA INTO MALE AND FEMALE\n",
    "male_temp=df[df['gender']=='M']\n",
    "female_temp=df[df['gender']=='F']\n",
    "male_temp=np.array(male_temp['temperature'])\n",
    "female_temp=np.array(female_temp['temperature'])\n",
    "\n",
    "#CALCULATING EMPIRICAL DIFFERENCE\n",
    "empirical_diff_means=diff_of_means(male_temp,female_temp)          \n",
    "\n",
    "#CREATING LOTS OF PERMUTATIONS\n",
    "perm_reps=draw_perm_reps(male_temp,female_temp,diff_of_means,10000)\n",
    "\n",
    "#CALCULATING P VALUE\n",
    "p=np.sum(perm_reps<=empirical_diff_means)/len(perm_reps)\n",
    "\n",
    "# Print the result\n",
    "print('p-value =', p)\n"
   ]
  },
  {
   "cell_type": "markdown",
   "metadata": {},
   "source": [
    "With this small p value it indicates that there is a signficant difference between the average body temperatures of females vs males.\n",
    "\n",
    "## Write a story with your conclusion in the context of the original problem.\n",
    "\n",
    "This indicates that women and men both fit a normal distribution but however fit different normal distributions with different means. (I AM NOT REALLY SURE WHAT IS WANTED HERE...)\n",
    "\n",
    "\n",
    "### BONUS QUESTION\n",
    "#### is there a relation between body temperature and heart_rate?"
   ]
  },
  {
   "cell_type": "code",
   "execution_count": 125,
   "metadata": {},
   "outputs": [
    {
     "data": {
      "image/png": "[encoded data removed]",
      "text/plain": [
       "<matplotlib.figure.Figure at 0x112ed6240>"
      ]
     },
     "metadata": {},
     "output_type": "display_data"
    }
   ],
   "source": [
    "_ = plt.plot(df['temperature'],df['heart_rate'],marker='.',linestyle='none')\n",
    "plt.show()\n",
    "\n",
    "matrix=np.corrcoef(df['temperature'],df['heart_rate'],)\n",
    "print(pearson )"
   ]
  }
 ],
 "metadata": {
  "kernelspec": {
   "display_name": "Python 3",
   "language": "python",
   "name": "python3"
  },
  "language_info": {
   "codemirror_mode": {
    "name": "ipython",
    "version": 3
   },
   "file_extension": ".py",
   "mimetype": "text/x-python",
   "name": "python",
   "nbconvert_exporter": "python",
   "pygments_lexer": "ipython3",
   "version": "3.6.1"
  }
 },
 "nbformat": 4,
 "nbformat_minor": 1
}
