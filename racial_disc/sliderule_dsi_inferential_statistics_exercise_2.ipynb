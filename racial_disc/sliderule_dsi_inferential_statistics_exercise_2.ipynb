{
 "cells": [
  {
   "cell_type": "markdown",
   "metadata": {},
   "source": [
    "# Examining Racial Discrimination in the US Job Market\n",
    "\n",
    "### Background\n",
    "Racial discrimination continues to be pervasive in cultures throughout the world. Researchers examined the level of racial discrimination in the United States labor market by randomly assigning identical résumés to black-sounding or white-sounding names and observing the impact on requests for interviews from employers.\n",
    "\n",
    "### Data\n",
    "In the dataset provided, each row represents a resume. The 'race' column has two values, 'b' and 'w', indicating black-sounding and white-sounding. The column 'call' has two values, 1 and 0, indicating whether the resume received a call from employers or not.\n",
    "\n",
    "Note that the 'b' and 'w' values in race are assigned randomly to the resumes when presented to the employer."
   ]
  },
  {
   "cell_type": "markdown",
   "metadata": {},
   "source": [
    "<div class=\"span5 alert alert-info\">\n",
    "### Exercises\n",
    "You will perform a statistical analysis to establish whether race has a significant impact on the rate of callbacks for resumes.\n",
    "\n",
    "Answer the following questions **in this notebook below and submit to your Github account**. \n",
    "\n",
    "   1. What test is appropriate for this problem? Does CLT apply?\n",
    "   2. What are the null and alternate hypotheses?\n",
    "   3. Compute margin of error, confidence interval, and p-value.\n",
    "   4. Write a story describing the statistical significance in the context or the original problem.\n",
    "   5. Does your analysis mean that race/name is the most important factor in callback success? Why or why not? If not, how would you amend your analysis?\n",
    "\n",
    "You can include written notes in notebook cells using Markdown: \n",
    "   - In the control panel at the top, choose Cell > Cell Type > Markdown\n",
    "   - Markdown syntax: http://nestacms.com/docs/creating-content/markdown-cheat-sheet\n",
    "\n",
    "\n",
    "#### Resources\n",
    "+ Experiment information and data source: http://www.povertyactionlab.org/evaluation/discrimination-job-market-united-states\n",
    "+ Scipy statistical methods: http://docs.scipy.org/doc/scipy/reference/stats.html \n",
    "+ Markdown syntax: http://nestacms.com/docs/creating-content/markdown-cheat-sheet\n",
    "</div>\n",
    "****"
   ]
  },
  {
   "cell_type": "code",
   "execution_count": 1,
   "metadata": {
    "collapsed": true
   },
   "outputs": [],
   "source": [
    "import pandas as pd\n",
    "import numpy as np\n",
    "from scipy import stats"
   ]
  },
  {
   "cell_type": "code",
   "execution_count": 2,
   "metadata": {
    "collapsed": true
   },
   "outputs": [],
   "source": [
    "data = pd.io.stata.read_stata('data/us_job_market_discrimination.dta')"
   ]
  },
  {
   "cell_type": "code",
   "execution_count": 17,
   "metadata": {},
   "outputs": [
    {
     "name": "stdout",
     "output_type": "stream",
     "text": [
      "157.0\n",
      "235.0\n",
      "2435\n",
      "2435\n",
      "  id ad  education  ofjobs  yearsexp  honors  volunteer  military  empholes  \\\n",
      "0  b  1          4       2         6       0          0         0         1   \n",
      "1  b  1          3       3         6       0          1         1         0   \n",
      "2  b  1          4       1         6       0          0         0         0   \n",
      "3  b  1          3       4         6       0          1         0         1   \n",
      "4  b  1          3       3        22       0          0         0         0   \n",
      "\n",
      "   occupspecific    ...      compreq  orgreq  manuf  transcom  bankreal trade  \\\n",
      "0             17    ...          1.0     0.0    1.0       0.0       0.0   0.0   \n",
      "1            316    ...          1.0     0.0    1.0       0.0       0.0   0.0   \n",
      "2             19    ...          1.0     0.0    1.0       0.0       0.0   0.0   \n",
      "3            313    ...          1.0     0.0    1.0       0.0       0.0   0.0   \n",
      "4            313    ...          1.0     1.0    0.0       0.0       0.0   0.0   \n",
      "\n",
      "  busservice othservice  missind  ownership  \n",
      "0        0.0        0.0      0.0             \n",
      "1        0.0        0.0      0.0             \n",
      "2        0.0        0.0      0.0             \n",
      "3        0.0        0.0      0.0             \n",
      "4        0.0        1.0      0.0  Nonprofit  \n",
      "\n",
      "[5 rows x 65 columns]\n"
     ]
    }
   ],
   "source": [
    "# number of callbacks for black-sounding names\n",
    "print(sum(data[data.race=='b'].call))\n",
    "print(sum(data[data.race=='w'].call))\n",
    "print((data[data.race=='w']).call.count())\n",
    "print((data[data.race=='b']).call.count())\n",
    "print(data.head())"
   ]
  },
  {
   "cell_type": "code",
   "execution_count": 10,
   "metadata": {
    "collapsed": true
   },
   "outputs": [],
   "source": [
    "def permutation_sample(data_1, data_2):\n",
    "    #PERMUTATING THE DATA\n",
    "    permuted_data = np.random.permutation(np.concatenate((data_1, data_2)))\n",
    "    return permuted_data[:len(data_1)], permuted_data[len(data_1):]\n",
    "\n",
    "def draw_perm_reps(data_1, data_2, func, size=1):\n",
    "    #Generate multiple permutation replicates.\n",
    "\n",
    "    # Initialize array of replicates: perm_replicates\n",
    "    perm_replicates = np.empty(size)\n",
    "\n",
    "    for i in range(size):\n",
    "        # Generate permutation sample\n",
    "        perm_sample_1, perm_sample_2 = permutation_sample(data_1,data_2)\n",
    "\n",
    "        # Compute the test statistic\n",
    "        perm_replicates[i] = func(perm_sample_1,perm_sample_2)\n",
    "\n",
    "    return perm_replicates\n",
    "\n",
    "\n",
    "def bootstrap_replicate_1d(data, func):\n",
    "    #Generate bootstrap replicate of 1D data.\n",
    "    bs_sample = np.random.choice(data, len(data))\n",
    "    return func(bs_sample) \n",
    "\n",
    "def draw_bs_reps(data, func, size=1):\n",
    "    #Draw bootstrap replicates\n",
    "\n",
    "    # Initialize array of replicates: bs_replicates\n",
    "    bs_replicates = np.empty(size)\n",
    "\n",
    "    # Generate replicates\n",
    "    for i in range(size):\n",
    "        bs_replicates[i] = bootstrap_replicate_1d(data,func)\n",
    "\n",
    "    return bs_replicates"
   ]
  },
  {
   "cell_type": "markdown",
   "metadata": {},
   "source": [
    "## What test is appropriate for this problem? Does CLT apply?\n",
    "\n",
    "    A permutation test is most appropriate for this problem.  There are two charateristics of interest, race and call back.  We state the null hypothese as race has no affect on whether a person is called back or not.  So we randomly assign whether a person was called back or not to white and black sounding names and determine the ratio of callback rate for black vs white sounding names, then calculate the P-value of achieving a value atleast as extreme as what we recorded 157/2435 : 235/2435.  Yes clt applies because there the data set is suficiently large (>30)\n",
    "    \n",
    "## What are the null and alternate hypotheses?\n",
    "\n",
    "    Null hypothesis: Race has no effect on whether a person is called back or not for a position.\n",
    "    Alternate hypothesis: Race does have an effect on whether a person is called back ornot for a position"
   ]
  },
  {
   "cell_type": "code",
   "execution_count": 16,
   "metadata": {},
   "outputs": [
    {
     "name": "stdout",
     "output_type": "stream",
     "text": [
      "p =  0.0001\n"
     ]
    }
   ],
   "source": [
    "#FUNCTION FOR PERMUTATIONS\n",
    "def diff_of_ratio(data_1,data_2):\n",
    "    len_1=len(data_1)\n",
    "    sum_1=sum(data_1)\n",
    "    len_2=len(data_2)\n",
    "    sum_2=sum(data_2)\n",
    "    #print(len_1,len_2,sum_1,sum_2)\n",
    "    \n",
    "    ratio = ((sum_1/len_1)/(sum_2/len_2))\n",
    "    #print(len_1,len_2,sum_1,sum_2,ratio)\n",
    "    return ratio\n",
    "\n",
    "#CREATING ARRAYS FOR BLACK AND WHITE SOUNDING NAMES\n",
    "white = np.array(data[data.race=='w'].call)\n",
    "black = np.array(data[data.race=='b'].call)\n",
    "\n",
    "#CALCULATING EMPIRICAL DIFFERNECE IN RATIO BETWEEN BLACK AND WHITE SOUNDING NAMES\n",
    "empirical_diff_of_ratio =diff_of_ratio(white,black)\n",
    "#print(empirical_diff_of_ratio)\n",
    "\n",
    "#TAKING 10000 PERMUTATION UNDER THE NULL HYPOTHESE\n",
    "race_perm_reps=draw_perm_reps(white,black,diff_of_ratio,10000)\n",
    "\n",
    "#CALCULATING P VALUE\n",
    "p=sum(race_perm_reps>=empirical_diff_of_ratio)/len(race_perm_reps)\n",
    "\n",
    "#PRINTING P VALUE\n",
    "print('p = ', p)"
   ]
  },
  {
   "cell_type": "code",
   "execution_count": 14,
   "metadata": {},
   "outputs": [
    {
     "name": "stdout",
     "output_type": "stream",
     "text": [
      "Standard error of the ratio (SER): 0.00150967127932\n",
      "95% confidence interval in ratio :[ 1.23563144  1.8240204 ]\n"
     ]
    }
   ],
   "source": [
    "#MAKING BOOTSTRAP REPLICATES OF MEAN FOR WHITE AND BLACK DATASETS\n",
    "white_bs_reps=draw_bs_reps(white,np.mean,10000)\n",
    "black_bs_reps=draw_bs_reps(black,np.mean,10000)\n",
    "\n",
    "#CREATING ARRAY OF THE RATIO\n",
    "ratio_white_to_black=white_bs_reps/black_bs_reps\n",
    "\n",
    "#CALCULATING SER\n",
    "sem=np.std(ratio_white_to_black)/np.sqrt(len(ratio_white_to_black))\n",
    "print(\"Standard error of the ratio (SER): \"+str(sem))\n",
    "\n",
    "#CALCULATING CONFIDENCE INTERVALS\n",
    "print(\"95% confidence interval in ratio :\" +str(np.percentile(ratio_white_to_black,[2.5,97.5])))"
   ]
  },
  {
   "cell_type": "markdown",
   "metadata": {},
   "source": [
    "## Compute margin of error, confidence interval, and p-value.\n",
    "\n",
    "    We calculated a p value = 0.0001 indicating that it is very unlikely that we observed a ration of call backs of 1.49681528662 in favor of white sounding names, meaning white sounding names are 50% more likely to be called back.  we calculated a standard error of 0.00150967127932 and a 95% confidence interval of [ 1.23563144  1.8240204 ]\n",
    "    \n",
    "## Write a story describing the statistical significance in the context or the original problem.\n",
    "\n",
    "    using the above calculated statistics it is clear that this data shows us that black sounding names are less likely to be called back for an interview compared to white sounding names, meaning race is a factor in that decision.  This fits in with the discrimintation apparent in the US workforce and can be used to explain also why black people are often payed less than white people for the same job\n",
    "    \n",
    "## Does your analysis mean that race/name is the most important factor in callback success? Why or why not? If not, how would you amend your analysis?\n",
    "\n",
    "    No, my analysis simply indicates that race/name is A factor in callback success.  We see that when all other aspects of the resume are kept constant, white sounding names are more likely to be called back.  To determine the most import factor in callback success one would need to repeat this experiment with each aspect of the resume, ie keeping name and all other aspects constant and changing years of experience or changing military experience to determine which factor creates the biggest change in callba\n",
    "\n"
   ]
  },
  {
   "cell_type": "markdown",
   "metadata": {
    "collapsed": true
   },
   "source": []
  }
 ],
 "metadata": {
  "kernelspec": {
   "display_name": "Python 3",
   "language": "python",
   "name": "python3"
  },
  "language_info": {
   "codemirror_mode": {
    "name": "ipython",
    "version": 3
   },
   "file_extension": ".py",
   "mimetype": "text/x-python",
   "name": "python",
   "nbconvert_exporter": "python",
   "pygments_lexer": "ipython3",
   "version": "3.6.1"
  }
 },
 "nbformat": 4,
 "nbformat_minor": 1
}
