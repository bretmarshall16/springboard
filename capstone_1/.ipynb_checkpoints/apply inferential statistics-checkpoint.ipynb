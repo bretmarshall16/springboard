{
 "cells": [
  {
   "cell_type": "markdown",
   "metadata": {},
   "source": [
    "# Applying Inferential statistics\n",
    "\n",
    "in this document I apply the interential statistics techniques that I learned in the chapter to prove statistical signficance and correlation.\n",
    "\n",
    "in my data storytelling section I found the following that I will now prove to be statistical signficant:\n",
    "\n",
    "1) men are pulled over at a higher rate than women\n",
    "\n",
    "2) Black people are pulled over at a higher rate than white people\n",
    "\n",
    "3) Women are more likely to get off with a warning than men\n",
    "\n",
    "4) there is a positive correlation age and \"get away percentage\""
   ]
  },
  {
   "cell_type": "code",
   "execution_count": 2,
   "metadata": {},
   "outputs": [
    {
     "name": "stdout",
     "output_type": "stream",
     "text": [
      "Populating the interactive namespace from numpy and matplotlib\n"
     ]
    },
    {
     "name": "stderr",
     "output_type": "stream",
     "text": [
      "/Users/bmarshall/anaconda/lib/python3.6/site-packages/IPython/core/magics/pylab.py:161: UserWarning: pylab import has clobbered these variables: ['size']\n",
      "`%matplotlib` prevents importing * from pylab and numpy\n",
      "  \"\\n`%matplotlib` prevents importing * from pylab and numpy\"\n"
     ]
    }
   ],
   "source": [
    "#IMPORTING NECESSARY MODULES AND SETTING GRAPH PARAMETERS\n",
    "import pandas as pd\n",
    "import matplotlib.pyplot as plt\n",
    "import seaborn as sns\n",
    "import numpy as np\n",
    "import math\n",
    "%pylab inline\n",
    "pylab.rcParams['figure.figsize'] = (20, 6)\n",
    "pd.options.mode.chained_assignment = None  # default='warn'"
   ]
  },
  {
   "cell_type": "code",
   "execution_count": 3,
   "metadata": {
    "collapsed": true
   },
   "outputs": [],
   "source": [
    "#IMPORTING DATA\n",
    "df=pd.read_csv('data/VT-clean.csv',index_col='id',low_memory=False)\n",
    "#print(df.head())\n",
    "#print(df.info())"
   ]
  },
  {
   "cell_type": "code",
   "execution_count": 4,
   "metadata": {
    "collapsed": true
   },
   "outputs": [],
   "source": [
    "#TAKING ONLY THE NECESSARY COLUMNS TO THIS INVESTIGATION\n",
    "df_clean=df[['state','stop_date','stop_time','location_raw','county_name','county_fips','fine_grained_location','police_department','driver_gender','driver_age','driver_race','violation','search_conducted','search_type','contraband_found','stop_outcome','is_arrested','officer_id']]\n",
    "#print(df_clean.head())\n",
    "#print(df_clean.info())"
   ]
  },
  {
   "cell_type": "markdown",
   "metadata": {},
   "source": [
    "## Men are pulled over at a higher rate than women\n",
    "\n",
    "    I determined that the data showed that men are pulled over signficantly more often than women.  To prove the data to be statistical signficant.  I similuate the data taking many times under the null hypothesis that there is no difference between men and women, then for each set, calculate the difference in pull over count.  Then I calculate a p-value for how often I would observe the data naturally. To simulate taking the data, I randomly assign male or female to each traffic stop.  (50.9 % chance of getting female to account for population difference)"
   ]
  },
  {
   "cell_type": "code",
   "execution_count": 6,
   "metadata": {
    "scrolled": true
   },
   "outputs": [
    {
     "name": "stdout",
     "output_type": "stream",
     "text": [
      "p =  0.0\n"
     ]
    }
   ],
   "source": [
    "#SETTING # OF TRAILS\n",
    "size=1000\n",
    "\n",
    "#CALCULATING EMPIRICAL VALUES\n",
    "sum_male=df_clean[df_clean.driver_gender=='M'].driver_gender.count()\n",
    "sum_female=df_clean[df_clean.driver_gender=='F'].driver_gender.count()\n",
    "empirical_diff=sum_male-sum_female\n",
    "empirical_size=sum_male+sum_female\n",
    "\n",
    "#SETTING ARRAY OF REPLICATES DATA\n",
    "replicate=np.empty(size)\n",
    "\n",
    "#BERNOULI TRIALS\n",
    "for i in range(size):\n",
    "\n",
    "    #CREATING EMPTY LIST OF STRINGS\n",
    "    stats=[\"\" for x in range(empirical_size)]\n",
    "\n",
    "    #CREATING DATA SET OF FEMALE AND MALE PULL OVERS\n",
    "    for y in range(empirical_size):\n",
    "        x=np.random.random()\n",
    "        if x<=.507:\n",
    "            stats[y]='F'\n",
    "        else:\n",
    "            stats[y]='M'\n",
    "    stats=np.array(stats)\n",
    "    sum_1=len(stats[stats=='M'])\n",
    "    sum_2=len(stats[stats=='F'])\n",
    "    \n",
    "    replicate[i]=sum_1-sum_2\n",
    "    \n",
    "    \n",
    "#CALCULATING P VALUE\n",
    "p=sum(replicate>=empirical_diff)/len(replicate)\n",
    "\n",
    "#PRINTING P VALUE\n",
    "print('p = ', p)\n"
   ]
  },
  {
   "cell_type": "markdown",
   "metadata": {
    "collapsed": true
   },
   "source": [
    "This p value of < 0.001 shows to us that is very unlikely that we observed the difference by chance indicating there is a statiscial signficance between the # of pull over for men and women.  \n",
    "\n",
    "## Black people are pulled over at a higher rate than white people\n",
    "\n",
    "    To prove this observation to be statistically signficant I follow the same return as described above for women vs men\n",
    "\n",
    "\n"
   ]
  },
  {
   "cell_type": "code",
   "execution_count": 14,
   "metadata": {},
   "outputs": [
    {
     "name": "stdout",
     "output_type": "stream",
     "text": [
      "p =  0.0\n"
     ]
    }
   ],
   "source": [
    "#SETTING # OF TRAILS\n",
    "size=1000\n",
    "\n",
    "#CALCUATES THE RATIO OF THE APPEARANCE OF STRING_1 TO STRING_2 IN A LIST CALLED DATA\n",
    "def diff_white_black(data):\n",
    "    sum_1=sum(data[data=='White'])\n",
    "    sum_2=sum(data[data=='Black'])\n",
    "    return sum_1-sum_2\n",
    "\n",
    "#CALCULATING EMPIRICAL VALUES\n",
    "sum_white=df_clean[df_clean.driver_race=='White'].driver_race.count()\n",
    "sum_black=df_clean[df_clean.driver_race=='Black'].driver_race.count()\n",
    "empirical_ratio=sum_white/sum_black\n",
    "empirical_size=sum_white+sum_black\n",
    "\n",
    "\n",
    "#SETTING ARRAY OF REPLICATES DATA\n",
    "replicate=np.empty(size)\n",
    "\n",
    "#BERNOULI TRIALS\n",
    "for i in range(size):\n",
    "\n",
    "    #CREATING EMPTY LIST OF STRINGS\n",
    "    stats=[\"\" for x in range(empirical_size)]\n",
    "\n",
    "    #CREATING DATA SET OF FEMALE AND MALE PULL OVERS\n",
    "    for y in range(empirical_size):\n",
    "        x=np.random.random()\n",
    "        if x<=0.012467:\n",
    "            stats[y]='Black'\n",
    "        else:\n",
    "            stats[y]='White'\n",
    "    stats=np.array(stats)\n",
    "    sum_1=len(stats[stats=='White'])\n",
    "    sum_2=len(stats[stats=='Black'])\n",
    "    \n",
    "    replicate[i]=sum_1/sum_2\n",
    "\n",
    "\n",
    "#CALCULATING P VALUE\n",
    "p=sum(replicate<=empirical_ratio)/len(replicate)\n",
    "\n",
    "#PRINTING P VALUE\n",
    "print('p = ', p)\n"
   ]
  },
  {
   "cell_type": "markdown",
   "metadata": {
    "collapsed": true
   },
   "source": [
    "This p value of < 0.001 shows to us that is very unlikely that we observed the ratio by chance indicating there is a statiscial signficance between the # of pull over for black people vs white people in favor of white people.\n",
    "\n",
    "## Women are more likely to get off with a warning than men\n",
    "\n",
    "    To prove this oberservation to be statistically signficant, I take a data set of men where 0 mans they didnt get off with a warning and 1 means they did and a data set of the same type for women.  I then perform permuations on the two data sets taking difference in means to be the replicate value and calculate a p value of percentage of replicates at least as extreme as the difference of means measured from the empirical data.\n"
   ]
  },
  {
   "cell_type": "code",
   "execution_count": 15,
   "metadata": {
    "collapsed": true
   },
   "outputs": [],
   "source": [
    "def permutation_sample(data_1, data_2):\n",
    "    #PERMUTATING THE DATA\n",
    "    permuted_data = np.random.permutation(np.concatenate((data_1, data_2)))\n",
    "    return permuted_data[:len(data_1)], permuted_data[len(data_1):]\n",
    "\n",
    "def draw_perm_reps(data_1, data_2, func, size=1):\n",
    "    #Generate multiple permutation replicates.\n",
    "\n",
    "    # Initialize array of replicates: perm_replicates\n",
    "    perm_replicates = np.empty(size)\n",
    "\n",
    "    for i in range(size):\n",
    "        # Generate permutation sample\n",
    "        perm_sample_1, perm_sample_2 = permutation_sample(data_1,data_2)\n",
    "\n",
    "        # Compute the test statistic\n",
    "        perm_replicates[i] = func(perm_sample_1,perm_sample_2)\n",
    "\n",
    "    return perm_replicates"
   ]
  },
  {
   "cell_type": "code",
   "execution_count": 53,
   "metadata": {},
   "outputs": [
    {
     "name": "stdout",
     "output_type": "stream",
     "text": [
      "p =  0.0\n"
     ]
    }
   ],
   "source": [
    "def diff_of_means(data1,data2):\n",
    "    return(np.mean(data1)-np.mean(data2))\n",
    "\n",
    "men=df_clean[df_clean.driver_gender=='M']\n",
    "written=np.array(men.stop_outcome=='Written Warning')\n",
    "verbal=np.array(men.stop_outcome=='Verbal Warning')\n",
    "men= written | verbal\n",
    "\n",
    "\n",
    "women=df_clean[df_clean.driver_gender=='F']\n",
    "written=np.array(women.stop_outcome=='Written Warning')\n",
    "verbal=np.array(women.stop_outcome=='Verbal Warning')\n",
    "women= written | verbal\n",
    "\n",
    "\n",
    "replicate = draw_perm_reps(men,women,diff_of_means,10000)\n",
    "empirical_diff=diff_of_means(men,women)\n",
    "\n",
    "#CALCULATING P VALUE\n",
    "p=sum(replicate<=empirical_diff)/len(replicate)\n",
    "\n",
    "#PRINTING P VALUE\n",
    "print('p = ', p)\n"
   ]
  },
  {
   "cell_type": "markdown",
   "metadata": {},
   "source": [
    "This p value of < 0.001 shows to us that is very unlikely that we observed the difference by chance indicating there is a statiscial signficance between the 'get away' percentage of women vs men\n",
    "\n",
    "## There is a positive correlation age and \"get away percentage\""
   ]
  },
  {
   "cell_type": "code",
   "execution_count": 59,
   "metadata": {
    "scrolled": false
   },
   "outputs": [
    {
     "name": "stdout",
     "output_type": "stream",
     "text": [
      "0.962630375498\n"
     ]
    }
   ],
   "source": [
    "#COPYING OF CLEAN DATA SET\n",
    "df_got_away=df_clean.copy()\n",
    "\n",
    "#SETTING COLUMNS FOR NO PUNISHMENT\n",
    "df_got_away['no_punishment']=(df_got_away['stop_outcome']=='Written Warning') | (df_got_away['stop_outcome']=='Verbal Warning')\n",
    "\n",
    "#SETTING COUNT FOR TOTAL\n",
    "df_got_away['total']=1.0\n",
    "\n",
    "#GROUPING BY DRIVER GENDER, DRIVER RACE, AND DRIVER AGE\n",
    "df_got_away=df_got_away.groupby(['driver_age']).sum()\n",
    "\n",
    "#PRINTING TOTAL STOPS FOR EACH AGE FOR WHITE WOMEN TO SEE WHICH AGES HAVE SIGNFICANT ENOUGH PULL OVERS\n",
    "#print(df_got_away['total'])\n",
    "\n",
    "#GRABBING ONLY THE COLUMNS OF INTEREST, NO PUNISHMENT AND TOTAL\n",
    "df_got_away=df_got_away[['no_punishment','total']]\n",
    "\n",
    "#FILLING NAN VALUES WITH 0\n",
    "df_got_away=df_got_away.fillna(value=0)\n",
    "\n",
    "#SETTING PERCENTAGE BY DIVIDING NO PUNISHMENT BY TOTAL FOR EACH CATEGORY, IE. BLACK WOMAN\n",
    "df_got_away['got_away_percentage']=df_got_away['no_punishment']/df_got_away['total']*100\n",
    "\n",
    "#GRABBING THE COLUMN OF INTEREST, GOT AWAY PERCENTAGE\n",
    "df_got_away=df_got_away['got_away_percentage']\n",
    "\n",
    "#SELECTING ONLY THE AGES WITH > 100 INSTANCES\n",
    "df_got_away=df_got_away.loc[16.0:88.0]\n",
    "\n",
    "df_got_away=df_got_away.reset_index()\n",
    "matrix=np.corrcoef(df_got_away['driver_age'],df_got_away['got_away_percentage'])\n",
    "print(matrix[0][1])"
   ]
  },
  {
   "cell_type": "markdown",
   "metadata": {},
   "source": [
    "This pearson correlational coefficeint of 0.962 shows that there is a very strong positive correlation between age and get away percentage.  meaning the older a driver is the more likely they are to get away with a warning when they are pulled over."
   ]
  }
 ],
 "metadata": {
  "kernelspec": {
   "display_name": "Python 3",
   "language": "python",
   "name": "python3"
  },
  "language_info": {
   "codemirror_mode": {
    "name": "ipython",
    "version": 3
   },
   "file_extension": ".py",
   "mimetype": "text/x-python",
   "name": "python",
   "nbconvert_exporter": "python",
   "pygments_lexer": "ipython3",
   "version": "3.6.1"
  }
 },
 "nbformat": 4,
 "nbformat_minor": 2
}
